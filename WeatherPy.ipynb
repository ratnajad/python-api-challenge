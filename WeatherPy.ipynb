{
 "cells": [
  {
   "cell_type": "markdown",
   "metadata": {},
   "source": [
    "# WeatherPy\n",
    "----\n",
    "\n",
    "#### Note\n",
    "* Instructions have been included for each segment. You do not have to follow them exactly, but they are included to help you think through the steps."
   ]
  },
  {
   "cell_type": "code",
   "execution_count": 1,
   "metadata": {},
   "outputs": [
    {
     "name": "stdout",
     "output_type": "stream",
     "text": [
      "Requirement already satisfied: citipy in /Users/ratna/opt/anaconda3/lib/python3.8/site-packages (0.0.5)\n",
      "Requirement already satisfied: kdtree>=0.12 in /Users/ratna/opt/anaconda3/lib/python3.8/site-packages (from citipy) (0.16)\n",
      "Note: you may need to restart the kernel to use updated packages.\n"
     ]
    }
   ],
   "source": [
    "pip install citipy"
   ]
  },
  {
   "cell_type": "code",
   "execution_count": 1,
   "metadata": {
    "scrolled": true
   },
   "outputs": [],
   "source": [
    "# Dependencies and Setup\n",
    "import matplotlib.pyplot as plt\n",
    "import pandas as pd\n",
    "import numpy as np\n",
    "import requests\n",
    "import time\n",
    "from scipy.stats import linregress\n",
    "\n",
    "# Import API key\n",
    "from api_keys import weather_api_key\n",
    "\n",
    "# Incorporated citipy to determine city based on latitude and longitude\n",
    "from citipy import citipy\n",
    "\n",
    "# Output File (CSV)\n",
    "output_data_file = \"output_data/cities.csv\"\n",
    "\n",
    "# Range of latitudes and longitudes\n",
    "lat_range = (-90, 90)\n",
    "lng_range = (-180, 180)"
   ]
  },
  {
   "cell_type": "markdown",
   "metadata": {},
   "source": [
    "## Generate Cities List"
   ]
  },
  {
   "cell_type": "code",
   "execution_count": 2,
   "metadata": {},
   "outputs": [
    {
     "data": {
      "text/plain": [
       "635"
      ]
     },
     "execution_count": 2,
     "metadata": {},
     "output_type": "execute_result"
    }
   ],
   "source": [
    "# List for holding lat_lngs and cities\n",
    "lat_lngs = []\n",
    "cities = []\n",
    "\n",
    "# Create a set of random lat and lng combinations\n",
    "lats = np.random.uniform(lat_range[0], lat_range[1], size=1500)\n",
    "lngs = np.random.uniform(lng_range[0], lng_range[1], size=1500)\n",
    "lat_lngs = zip(lats, lngs)\n",
    "\n",
    "# Identify nearest city for each lat, lng combination\n",
    "for lat_lng in lat_lngs:\n",
    "    city = citipy.nearest_city(lat_lng[0], lat_lng[1]).city_name\n",
    "    \n",
    "    # If the city is unique, then add it to a our cities list\n",
    "    if city not in cities:\n",
    "        cities.append(city)\n",
    "\n",
    "# Print the city count to confirm sufficient count\n",
    "len(cities)"
   ]
  },
  {
   "cell_type": "markdown",
   "metadata": {},
   "source": [
    "### Perform API Calls\n",
    "* Perform a weather check on each city using a series of successive API calls.\n",
    "* Include a print log of each city as it'sbeing processed (with the city number and city name).\n"
   ]
  },
  {
   "cell_type": "code",
   "execution_count": 4,
   "metadata": {},
   "outputs": [],
   "source": [
    "base_url = \"http://api.openweathermap.org/data/2.5/weather?\"\n",
    "#units = 'imperial'\n",
    "#query_url = f\"{base_url}appid={weather_api_key}&q={city}&units={units}&q=\"\n",
    "#query_url"
   ]
  },
  {
   "cell_type": "code",
   "execution_count": 5,
   "metadata": {},
   "outputs": [],
   "source": [
    "#create empty lists\n",
    "city_names = []\n",
    "max_temps = []\n",
    "humidity = []\n",
    "cloudiness = []\n",
    "wind_speed = []\n",
    "country = []\n",
    "date = []\n",
    "latitude = []\n",
    "longitude = []"
   ]
  },
  {
   "cell_type": "code",
   "execution_count": 6,
   "metadata": {},
   "outputs": [],
   "source": [
    "#create counter and import time\n",
    "import time\n",
    "start_time = time.time()\n",
    "\n",
    "record_count = 1\n",
    "set_count = 1"
   ]
  },
  {
   "cell_type": "code",
   "execution_count": 7,
   "metadata": {},
   "outputs": [
    {
     "name": "stdout",
     "output_type": "stream",
     "text": [
      "Beginning Data Retrieval\n",
      "-------------------------------------\n",
      "Processing Record 1 of Set 1 | karratha\n",
      "Processing Record 2 of Set 1 | san cristobal\n",
      "Processing Record 3 of Set 1 | mantua\n",
      "City is not found. Skipping...\n",
      "Processing Record 4 of Set 1 | maroantsetra\n",
      "Processing Record 5 of Set 1 | sinop\n",
      "Processing Record 6 of Set 1 | boa vista\n",
      "Processing Record 7 of Set 1 | hermanus\n",
      "Processing Record 8 of Set 1 | ushuaia\n",
      "Processing Record 9 of Set 1 | rikitea\n",
      "Processing Record 10 of Set 1 | avarua\n",
      "Processing Record 11 of Set 1 | mataura\n",
      "Processing Record 12 of Set 1 | kaukauna\n",
      "Processing Record 13 of Set 1 | sao francisco do conde\n",
      "Processing Record 14 of Set 1 | albany\n",
      "Processing Record 15 of Set 1 | nouadhibou\n",
      "Processing Record 16 of Set 1 | saint-philippe\n",
      "Processing Record 17 of Set 1 | boralday\n",
      "Processing Record 18 of Set 1 | severo-kurilsk\n",
      "Processing Record 19 of Set 1 | kuna\n",
      "Processing Record 20 of Set 1 | san patricio\n",
      "Processing Record 21 of Set 1 | nikolskoye\n",
      "Processing Record 22 of Set 1 | bredasdorp\n",
      "Processing Record 23 of Set 1 | shache\n",
      "Processing Record 24 of Set 1 | melilla\n",
      "Processing Record 25 of Set 1 | tiksi\n",
      "Processing Record 26 of Set 1 | shahr-e babak\n",
      "Processing Record 27 of Set 1 | busselton\n",
      "Processing Record 28 of Set 1 | lagos\n",
      "Processing Record 29 of Set 1 | pacific grove\n",
      "Processing Record 30 of Set 1 | lebu\n",
      "Processing Record 31 of Set 1 | mildura\n",
      "Processing Record 32 of Set 1 | kapaa\n",
      "Processing Record 33 of Set 1 | narsaq\n",
      "Processing Record 34 of Set 1 | talaya\n",
      "Processing Record 35 of Set 1 | tuscaloosa\n",
      "Processing Record 36 of Set 1 | bethel\n",
      "Processing Record 37 of Set 1 | hualmay\n",
      "Processing Record 38 of Set 1 | punta arenas\n",
      "City is not found. Skipping...\n",
      "Processing Record 39 of Set 1 | tasiilaq\n",
      "Processing Record 40 of Set 1 | bulgan\n",
      "Processing Record 41 of Set 1 | qaanaaq\n",
      "Processing Record 42 of Set 1 | darnah\n",
      "Processing Record 43 of Set 1 | port alfred\n",
      "Processing Record 44 of Set 1 | cherskiy\n",
      "Processing Record 45 of Set 1 | klaksvik\n",
      "Processing Record 46 of Set 1 | port elizabeth\n",
      "Processing Record 47 of Set 1 | lata\n",
      "Processing Record 48 of Set 1 | cape town\n",
      "Processing Record 49 of Set 1 | norman wells\n",
      "Processing Record 50 of Set 1 | yulara\n",
      "Processing Record 0 of Set 2 | odoyev\n",
      "Processing Record 1 of Set 2 | bundaberg\n",
      "Processing Record 2 of Set 2 | les cayes\n",
      "Processing Record 3 of Set 2 | new norfolk\n",
      "Processing Record 4 of Set 2 | lodja\n",
      "Processing Record 5 of Set 2 | puerto carreno\n",
      "Processing Record 6 of Set 2 | hithadhoo\n",
      "Processing Record 7 of Set 2 | kazachinskoye\n",
      "Processing Record 8 of Set 2 | lavrentiya\n",
      "Processing Record 9 of Set 2 | atchison\n",
      "Processing Record 10 of Set 2 | acari\n",
      "Processing Record 11 of Set 2 | gallup\n",
      "Processing Record 12 of Set 2 | ribeira grande\n",
      "Processing Record 13 of Set 2 | kodinsk\n",
      "Processing Record 14 of Set 2 | clyde river\n",
      "Processing Record 15 of Set 2 | hofn\n",
      "Processing Record 16 of Set 2 | castro\n",
      "Processing Record 17 of Set 2 | east london\n",
      "Processing Record 18 of Set 2 | jasidih\n",
      "Processing Record 19 of Set 2 | pochutla\n",
      "Processing Record 20 of Set 2 | hobart\n",
      "Processing Record 21 of Set 2 | butaritari\n",
      "Processing Record 22 of Set 2 | carnarvon\n",
      "Processing Record 23 of Set 2 | rio verde de mato grosso\n",
      "Processing Record 24 of Set 2 | fortuna\n",
      "Processing Record 25 of Set 2 | bara\n",
      "City is not found. Skipping...\n",
      "Processing Record 26 of Set 2 | bluff\n",
      "Processing Record 27 of Set 2 | bilma\n",
      "City is not found. Skipping...\n",
      "Processing Record 28 of Set 2 | torbay\n",
      "Processing Record 29 of Set 2 | esperance\n",
      "Processing Record 30 of Set 2 | upernavik\n",
      "Processing Record 31 of Set 2 | port lincoln\n",
      "Processing Record 32 of Set 2 | saint-joseph\n",
      "Processing Record 33 of Set 2 | hailar\n",
      "Processing Record 34 of Set 2 | hasaki\n",
      "Processing Record 35 of Set 2 | usinsk\n",
      "Processing Record 36 of Set 2 | grindavik\n",
      "City is not found. Skipping...\n",
      "Processing Record 37 of Set 2 | vestmannaeyjar\n",
      "Processing Record 38 of Set 2 | bengkulu\n",
      "Processing Record 39 of Set 2 | thompson\n",
      "Processing Record 40 of Set 2 | bassano\n",
      "Processing Record 41 of Set 2 | mount isa\n",
      "Processing Record 42 of Set 2 | ust-barguzin\n",
      "Processing Record 43 of Set 2 | kruisfontein\n",
      "Processing Record 44 of Set 2 | maniitsoq\n",
      "Processing Record 45 of Set 2 | liverpool\n",
      "Processing Record 46 of Set 2 | tuktoyaktuk\n",
      "Processing Record 47 of Set 2 | gympie\n",
      "Processing Record 48 of Set 2 | rolla\n",
      "Processing Record 49 of Set 2 | martapura\n",
      "Processing Record 0 of Set 3 | san vicente\n",
      "Processing Record 1 of Set 3 | forio\n",
      "Processing Record 2 of Set 3 | hargeysa\n",
      "Processing Record 3 of Set 3 | half moon bay\n",
      "Processing Record 4 of Set 3 | svetlyy\n",
      "Processing Record 5 of Set 3 | chernyshevskiy\n",
      "Processing Record 6 of Set 3 | lorengau\n",
      "Processing Record 7 of Set 3 | cascavel\n",
      "Processing Record 8 of Set 3 | ostersund\n",
      "Processing Record 9 of Set 3 | loralai\n",
      "Processing Record 10 of Set 3 | hamilton\n",
      "Processing Record 11 of Set 3 | yellowknife\n",
      "Processing Record 12 of Set 3 | labuhan\n",
      "Processing Record 13 of Set 3 | xuddur\n",
      "City is not found. Skipping...\n",
      "Processing Record 14 of Set 3 | atuona\n",
      "Processing Record 15 of Set 3 | muyezerskiy\n",
      "Processing Record 16 of Set 3 | tolaga bay\n",
      "Processing Record 17 of Set 3 | palmer\n",
      "Processing Record 18 of Set 3 | alekseyevsk\n",
      "Processing Record 19 of Set 3 | paamiut\n",
      "Processing Record 20 of Set 3 | pangnirtung\n",
      "Processing Record 21 of Set 3 | sambava\n",
      "Processing Record 22 of Set 3 | batagay-alyta\n",
      "Processing Record 23 of Set 3 | port hedland\n",
      "Processing Record 24 of Set 3 | puerto baquerizo moreno\n",
      "Processing Record 25 of Set 3 | qaqortoq\n",
      "Processing Record 26 of Set 3 | lasa\n",
      "City is not found. Skipping...\n",
      "Processing Record 27 of Set 3 | luderitz\n",
      "Processing Record 28 of Set 3 | khatanga\n",
      "Processing Record 29 of Set 3 | georgetown\n",
      "Processing Record 30 of Set 3 | zhaotong\n",
      "Processing Record 31 of Set 3 | alofi\n",
      "City is not found. Skipping...\n",
      "Processing Record 32 of Set 3 | ancud\n",
      "Processing Record 33 of Set 3 | praia da vitoria\n",
      "Processing Record 34 of Set 3 | bowen\n",
      "City is not found. Skipping...\n",
      "Processing Record 35 of Set 3 | mayo\n",
      "Processing Record 36 of Set 3 | saint george\n",
      "Processing Record 37 of Set 3 | necochea\n",
      "Processing Record 38 of Set 3 | portland\n",
      "Processing Record 39 of Set 3 | roma\n",
      "Processing Record 40 of Set 3 | ahuimanu\n",
      "Processing Record 41 of Set 3 | dolni bousov\n",
      "Processing Record 42 of Set 3 | kaitangata\n",
      "Processing Record 43 of Set 3 | cabedelo\n",
      "Processing Record 44 of Set 3 | vaini\n",
      "Processing Record 45 of Set 3 | kuah\n",
      "Processing Record 46 of Set 3 | calvinia\n",
      "Processing Record 47 of Set 3 | xihe\n",
      "Processing Record 48 of Set 3 | axim\n",
      "Processing Record 49 of Set 3 | westport\n",
      "Processing Record 0 of Set 4 | sola\n",
      "City is not found. Skipping...\n",
      "Processing Record 1 of Set 4 | lazaro cardenas\n",
      "Processing Record 2 of Set 4 | cacu\n",
      "Processing Record 3 of Set 4 | coahuayana\n",
      "Processing Record 4 of Set 4 | mackay\n",
      "Processing Record 5 of Set 4 | antofagasta\n",
      "Processing Record 6 of Set 4 | mahebourg\n",
      "Processing Record 7 of Set 4 | dikson\n",
      "Processing Record 8 of Set 4 | meulaboh\n",
      "Processing Record 9 of Set 4 | puerto escondido\n",
      "Processing Record 10 of Set 4 | ahipara\n",
      "Processing Record 11 of Set 4 | jamestown\n",
      "City is not found. Skipping...\n",
      "Processing Record 12 of Set 4 | jumla\n",
      "Processing Record 13 of Set 4 | tukrah\n",
      "Processing Record 14 of Set 4 | wajir\n",
      "Processing Record 15 of Set 4 | puerto ayora\n",
      "Processing Record 16 of Set 4 | namatanai\n",
      "Processing Record 17 of Set 4 | riyadh\n",
      "Processing Record 18 of Set 4 | linhares\n",
      "Processing Record 19 of Set 4 | peterhead\n",
      "Processing Record 20 of Set 4 | fare\n",
      "Processing Record 21 of Set 4 | kutum\n",
      "Processing Record 22 of Set 4 | baruun-urt\n",
      "Processing Record 23 of Set 4 | kapit\n",
      "Processing Record 24 of Set 4 | rorvik\n",
      "Processing Record 25 of Set 4 | armidale\n",
      "Processing Record 26 of Set 4 | rawson\n",
      "Processing Record 27 of Set 4 | tezu\n",
      "City is not found. Skipping...\n",
      "Processing Record 28 of Set 4 | elizabeth city\n",
      "Processing Record 29 of Set 4 | bichena\n",
      "Processing Record 30 of Set 4 | hilo\n",
      "Processing Record 31 of Set 4 | amapa\n",
      "Processing Record 32 of Set 4 | laguna\n",
      "Processing Record 33 of Set 4 | oranjestad\n",
      "Processing Record 34 of Set 4 | provideniya\n",
      "Processing Record 35 of Set 4 | solec kujawski\n",
      "Processing Record 36 of Set 4 | cockburn town\n",
      "City is not found. Skipping...\n",
      "Processing Record 37 of Set 4 | praxedis guerrero\n"
     ]
    },
    {
     "name": "stdout",
     "output_type": "stream",
     "text": [
      "Processing Record 38 of Set 4 | felipe carrillo puerto\n",
      "Processing Record 39 of Set 4 | souillac\n",
      "Processing Record 40 of Set 4 | halifax\n",
      "Processing Record 41 of Set 4 | vostok\n",
      "Processing Record 42 of Set 4 | geraldton\n",
      "City is not found. Skipping...\n",
      "Processing Record 43 of Set 4 | jieshou\n",
      "Processing Record 44 of Set 4 | constitucion\n",
      "Processing Record 45 of Set 4 | codrington\n",
      "Processing Record 46 of Set 4 | nioro\n",
      "Processing Record 47 of Set 4 | barrow\n",
      "Processing Record 48 of Set 4 | diffa\n",
      "Processing Record 49 of Set 4 | cidreira\n",
      "Processing Record 0 of Set 5 | talnakh\n",
      "Processing Record 1 of Set 5 | portree\n",
      "Processing Record 2 of Set 5 | klichka\n",
      "Processing Record 3 of Set 5 | awbari\n",
      "Processing Record 4 of Set 5 | altamira\n",
      "Processing Record 5 of Set 5 | dalmau\n",
      "Processing Record 6 of Set 5 | ankara\n",
      "Processing Record 7 of Set 5 | tazovskiy\n",
      "Processing Record 8 of Set 5 | dolores\n",
      "Processing Record 9 of Set 5 | pringsewu\n",
      "Processing Record 10 of Set 5 | walvis bay\n",
      "Processing Record 11 of Set 5 | abu kamal\n",
      "City is not found. Skipping...\n",
      "Processing Record 12 of Set 5 | calama\n",
      "Processing Record 13 of Set 5 | chokurdakh\n",
      "Processing Record 14 of Set 5 | lompoc\n",
      "Processing Record 15 of Set 5 | brigantine\n",
      "Processing Record 16 of Set 5 | marawi\n",
      "Processing Record 17 of Set 5 | agucadoura\n",
      "Processing Record 18 of Set 5 | muzhi\n",
      "Processing Record 19 of Set 5 | aklavik\n",
      "Processing Record 20 of Set 5 | cozumel\n",
      "Processing Record 21 of Set 5 | nyurba\n",
      "Processing Record 22 of Set 5 | collinsville\n",
      "Processing Record 23 of Set 5 | camacha\n",
      "Processing Record 24 of Set 5 | antonina\n",
      "Processing Record 25 of Set 5 | gomel\n",
      "Processing Record 26 of Set 5 | chilakalurupet\n",
      "Processing Record 27 of Set 5 | buala\n",
      "Processing Record 28 of Set 5 | sur\n",
      "Processing Record 29 of Set 5 | faanui\n",
      "Processing Record 30 of Set 5 | magan\n",
      "Processing Record 31 of Set 5 | canavieiras\n",
      "Processing Record 32 of Set 5 | troitskoye\n",
      "Processing Record 33 of Set 5 | leningradskiy\n",
      "City is not found. Skipping...\n",
      "City is not found. Skipping...\n",
      "Processing Record 34 of Set 5 | maine-soroa\n",
      "Processing Record 35 of Set 5 | udachnyy\n",
      "Processing Record 36 of Set 5 | dom pedrito\n",
      "Processing Record 37 of Set 5 | cravo norte\n",
      "Processing Record 38 of Set 5 | wainwright\n",
      "Processing Record 39 of Set 5 | praya\n",
      "Processing Record 40 of Set 5 | biak\n",
      "City is not found. Skipping...\n",
      "Processing Record 41 of Set 5 | mushie\n",
      "Processing Record 42 of Set 5 | nanortalik\n",
      "Processing Record 43 of Set 5 | marrakesh\n",
      "Processing Record 44 of Set 5 | nueva italia de ruiz\n",
      "Processing Record 45 of Set 5 | yukamenskoye\n",
      "City is not found. Skipping...\n",
      "Processing Record 46 of Set 5 | poum\n",
      "Processing Record 47 of Set 5 | victor harbor\n",
      "Processing Record 48 of Set 5 | bambous virieux\n",
      "Processing Record 49 of Set 5 | anchorage\n",
      "Processing Record 0 of Set 6 | xining\n",
      "Processing Record 1 of Set 6 | melenki\n",
      "Processing Record 2 of Set 6 | omboue\n",
      "Processing Record 3 of Set 6 | asyut\n",
      "Processing Record 4 of Set 6 | bull savanna\n",
      "Processing Record 5 of Set 6 | kingsville\n",
      "Processing Record 6 of Set 6 | kirakira\n",
      "Processing Record 7 of Set 6 | hof\n",
      "Processing Record 8 of Set 6 | goderich\n",
      "Processing Record 9 of Set 6 | camacupa\n",
      "City is not found. Skipping...\n",
      "Processing Record 10 of Set 6 | arraial do cabo\n",
      "City is not found. Skipping...\n",
      "Processing Record 11 of Set 6 | ubinskoye\n",
      "Processing Record 12 of Set 6 | antigonish\n",
      "City is not found. Skipping...\n",
      "Processing Record 13 of Set 6 | honiara\n",
      "City is not found. Skipping...\n",
      "Processing Record 14 of Set 6 | bandarbeyla\n",
      "Processing Record 15 of Set 6 | yantal\n",
      "Processing Record 16 of Set 6 | gijon\n",
      "Processing Record 17 of Set 6 | ponta delgada\n",
      "Processing Record 18 of Set 6 | harper\n",
      "Processing Record 19 of Set 6 | mizan teferi\n",
      "Processing Record 20 of Set 6 | sibolga\n",
      "Processing Record 21 of Set 6 | estelle\n",
      "Processing Record 22 of Set 6 | ponta do sol\n",
      "Processing Record 23 of Set 6 | piacenza\n",
      "Processing Record 24 of Set 6 | kanniyakumari\n",
      "Processing Record 25 of Set 6 | colesberg\n",
      "Processing Record 26 of Set 6 | maun\n",
      "Processing Record 27 of Set 6 | saint-pierre\n",
      "Processing Record 28 of Set 6 | saskylakh\n",
      "Processing Record 29 of Set 6 | banff\n",
      "Processing Record 30 of Set 6 | tarma\n",
      "Processing Record 31 of Set 6 | sabang\n",
      "Processing Record 32 of Set 6 | kodiak\n",
      "City is not found. Skipping...\n",
      "Processing Record 33 of Set 6 | saldanha\n",
      "Processing Record 34 of Set 6 | cap malheureux\n",
      "Processing Record 35 of Set 6 | miraflores\n",
      "Processing Record 36 of Set 6 | inuvik\n",
      "Processing Record 37 of Set 6 | kavieng\n",
      "Processing Record 38 of Set 6 | palestine\n",
      "Processing Record 39 of Set 6 | sao joao da barra\n",
      "Processing Record 40 of Set 6 | vila velha\n",
      "Processing Record 41 of Set 6 | isangel\n",
      "Processing Record 42 of Set 6 | la ronge\n",
      "City is not found. Skipping...\n",
      "City is not found. Skipping...\n",
      "Processing Record 43 of Set 6 | srednekolymsk\n",
      "Processing Record 44 of Set 6 | mosquera\n",
      "Processing Record 45 of Set 6 | sicuani\n",
      "Processing Record 46 of Set 6 | ferrol\n",
      "Processing Record 47 of Set 6 | vao\n",
      "Processing Record 48 of Set 6 | camana\n",
      "Processing Record 49 of Set 6 | dawlatabad\n",
      "City is not found. Skipping...\n",
      "Processing Record 0 of Set 7 | shasta lake\n",
      "Processing Record 1 of Set 7 | tautira\n",
      "Processing Record 2 of Set 7 | ozernovskiy\n",
      "Processing Record 3 of Set 7 | snezhnogorsk\n",
      "Processing Record 4 of Set 7 | alanya\n",
      "Processing Record 5 of Set 7 | baymak\n",
      "Processing Record 6 of Set 7 | mogadishu\n",
      "Processing Record 7 of Set 7 | panaba\n",
      "City is not found. Skipping...\n",
      "Processing Record 8 of Set 7 | kargil\n",
      "City is not found. Skipping...\n",
      "Processing Record 9 of Set 7 | acajutla\n",
      "Processing Record 10 of Set 7 | port blair\n",
      "Processing Record 11 of Set 7 | wanning\n",
      "Processing Record 12 of Set 7 | punta alta\n",
      "Processing Record 13 of Set 7 | chuy\n",
      "Processing Record 14 of Set 7 | longyearbyen\n",
      "City is not found. Skipping...\n",
      "Processing Record 15 of Set 7 | melo\n",
      "Processing Record 16 of Set 7 | naliya\n",
      "Processing Record 17 of Set 7 | kot addu\n",
      "Processing Record 18 of Set 7 | port-gentil\n",
      "City is not found. Skipping...\n",
      "Processing Record 19 of Set 7 | road town\n",
      "Processing Record 20 of Set 7 | sitka\n",
      "Processing Record 21 of Set 7 | bajil\n",
      "Processing Record 22 of Set 7 | winslow\n",
      "Processing Record 23 of Set 7 | brownsville\n",
      "Processing Record 24 of Set 7 | vizianagaram\n",
      "Processing Record 25 of Set 7 | yeppoon\n",
      "Processing Record 26 of Set 7 | raga\n",
      "Processing Record 27 of Set 7 | santa rosalia\n",
      "Processing Record 28 of Set 7 | kununurra\n",
      "Processing Record 29 of Set 7 | solnechnyy\n",
      "Processing Record 30 of Set 7 | nizhnyaya poyma\n",
      "Processing Record 31 of Set 7 | nemuro\n",
      "Processing Record 32 of Set 7 | elat\n",
      "Processing Record 33 of Set 7 | mar del plata\n",
      "Processing Record 34 of Set 7 | nantucket\n",
      "Processing Record 35 of Set 7 | cururupu\n",
      "Processing Record 36 of Set 7 | northam\n",
      "Processing Record 37 of Set 7 | noumea\n",
      "Processing Record 38 of Set 7 | tiarei\n",
      "Processing Record 39 of Set 7 | ballina\n",
      "Processing Record 40 of Set 7 | omsukchan\n",
      "Processing Record 41 of Set 7 | igarka\n",
      "Processing Record 42 of Set 7 | sao filipe\n",
      "Processing Record 43 of Set 7 | padang\n",
      "Processing Record 44 of Set 7 | berck\n",
      "Processing Record 45 of Set 7 | rundu\n",
      "Processing Record 46 of Set 7 | airai\n",
      "Processing Record 47 of Set 7 | umm lajj\n",
      "Processing Record 48 of Set 7 | san jose del potrero\n",
      "Processing Record 49 of Set 7 | niquelandia\n",
      "City is not found. Skipping...\n",
      "Processing Record 0 of Set 8 | parana\n",
      "Processing Record 1 of Set 8 | savannah bight\n",
      "Processing Record 2 of Set 8 | sliven\n",
      "Processing Record 3 of Set 8 | ust-tsilma\n",
      "Processing Record 4 of Set 8 | wuwei\n",
      "Processing Record 5 of Set 8 | los llanos de aridane\n",
      "Processing Record 6 of Set 8 | trofors\n",
      "City is not found. Skipping...\n",
      "Processing Record 7 of Set 8 | tricase\n",
      "Processing Record 8 of Set 8 | haines junction\n",
      "Processing Record 9 of Set 8 | abay\n",
      "City is not found. Skipping...\n",
      "Processing Record 10 of Set 8 | daru\n",
      "Processing Record 11 of Set 8 | lianzhou\n",
      "Processing Record 12 of Set 8 | anadyr\n",
      "Processing Record 13 of Set 8 | vagur\n",
      "Processing Record 14 of Set 8 | tacna\n",
      "Processing Record 15 of Set 8 | shumyachi\n",
      "Processing Record 16 of Set 8 | kuandian\n",
      "Processing Record 17 of Set 8 | keti bandar\n",
      "Processing Record 18 of Set 8 | dingle\n",
      "Processing Record 19 of Set 8 | dunedin\n",
      "Processing Record 20 of Set 8 | yenagoa\n",
      "Processing Record 21 of Set 8 | southbridge\n"
     ]
    },
    {
     "name": "stdout",
     "output_type": "stream",
     "text": [
      "Processing Record 22 of Set 8 | ust-nera\n",
      "Processing Record 23 of Set 8 | aktash\n",
      "Processing Record 24 of Set 8 | samarai\n",
      "Processing Record 25 of Set 8 | yakeshi\n",
      "City is not found. Skipping...\n",
      "Processing Record 26 of Set 8 | richards bay\n",
      "Processing Record 27 of Set 8 | denpasar\n",
      "Processing Record 28 of Set 8 | flinders\n",
      "Processing Record 29 of Set 8 | dhuburi\n",
      "Processing Record 30 of Set 8 | murray\n",
      "Processing Record 31 of Set 8 | abalak\n",
      "Processing Record 32 of Set 8 | torres\n",
      "Processing Record 33 of Set 8 | pitimbu\n",
      "Processing Record 34 of Set 8 | champerico\n",
      "Processing Record 35 of Set 8 | pevek\n",
      "Processing Record 36 of Set 8 | conde\n",
      "Processing Record 37 of Set 8 | calabozo\n",
      "Processing Record 38 of Set 8 | zarnovica\n",
      "Processing Record 39 of Set 8 | coolum beach\n",
      "Processing Record 40 of Set 8 | sao luiz gonzaga\n",
      "Processing Record 41 of Set 8 | beringovskiy\n",
      "Processing Record 42 of Set 8 | pisco\n",
      "Processing Record 43 of Set 8 | kothi\n",
      "Processing Record 44 of Set 8 | tambura\n",
      "Processing Record 45 of Set 8 | sept-iles\n",
      "Processing Record 46 of Set 8 | nizwa\n",
      "Processing Record 47 of Set 8 | atar\n",
      "Processing Record 48 of Set 8 | ostrovnoy\n",
      "Processing Record 49 of Set 8 | havoysund\n",
      "Processing Record 0 of Set 9 | damietta\n",
      "Processing Record 1 of Set 9 | siverek\n",
      "Processing Record 2 of Set 9 | fort nelson\n",
      "Processing Record 3 of Set 9 | margate\n",
      "Processing Record 4 of Set 9 | huilong\n",
      "Processing Record 5 of Set 9 | coquimbo\n",
      "Processing Record 6 of Set 9 | koronowo\n",
      "Processing Record 7 of Set 9 | pirojpur\n",
      "Processing Record 8 of Set 9 | killybegs\n",
      "Processing Record 9 of Set 9 | pulupandan\n",
      "Processing Record 10 of Set 9 | caninde\n",
      "Processing Record 11 of Set 9 | hirara\n",
      "City is not found. Skipping...\n",
      "Processing Record 12 of Set 9 | bhindar\n",
      "Processing Record 13 of Set 9 | egvekinot\n",
      "Processing Record 14 of Set 9 | balabac\n",
      "Processing Record 15 of Set 9 | cochabamba\n",
      "Processing Record 16 of Set 9 | posevnaya\n",
      "Processing Record 17 of Set 9 | vostochnyy\n",
      "Processing Record 18 of Set 9 | aripuana\n",
      "Processing Record 19 of Set 9 | hammerfest\n",
      "Processing Record 20 of Set 9 | cherdyn\n",
      "Processing Record 21 of Set 9 | moron\n",
      "Processing Record 22 of Set 9 | barra do garcas\n",
      "Processing Record 23 of Set 9 | north branch\n",
      "Processing Record 24 of Set 9 | maku\n",
      "Processing Record 25 of Set 9 | longhua\n",
      "Processing Record 26 of Set 9 | binzhou\n",
      "Processing Record 27 of Set 9 | kokopo\n",
      "Processing Record 28 of Set 9 | havelock\n",
      "Processing Record 29 of Set 9 | iberia\n",
      "Processing Record 30 of Set 9 | gautier\n",
      "Processing Record 31 of Set 9 | san quintin\n",
      "Processing Record 32 of Set 9 | narasannapeta\n",
      "Processing Record 33 of Set 9 | sfantu gheorghe\n",
      "Processing Record 34 of Set 9 | leh\n",
      "Processing Record 35 of Set 9 | visby\n",
      "Processing Record 36 of Set 9 | tinaquillo\n",
      "Processing Record 37 of Set 9 | zhigansk\n",
      "Processing Record 38 of Set 9 | husavik\n",
      "City is not found. Skipping...\n",
      "Processing Record 39 of Set 9 | ilulissat\n",
      "Processing Record 40 of Set 9 | mount gambier\n",
      "Processing Record 41 of Set 9 | karla\n",
      "Processing Record 42 of Set 9 | la rioja\n",
      "Processing Record 43 of Set 9 | ulaangom\n",
      "Processing Record 44 of Set 9 | santa vitoria do palmar\n",
      "Processing Record 45 of Set 9 | hambantota\n",
      "Processing Record 46 of Set 9 | port macquarie\n",
      "Processing Record 47 of Set 9 | pangoa\n",
      "Processing Record 48 of Set 9 | baley\n",
      "Processing Record 49 of Set 9 | pontianak\n",
      "Processing Record 0 of Set 10 | santa elena\n",
      "Processing Record 1 of Set 10 | alta floresta\n",
      "Processing Record 2 of Set 10 | moose factory\n",
      "Processing Record 3 of Set 10 | broken hill\n",
      "Processing Record 4 of Set 10 | sibenik\n",
      "Processing Record 5 of Set 10 | nabire\n",
      "Processing Record 6 of Set 10 | ossora\n",
      "Processing Record 7 of Set 10 | ilheus\n",
      "Processing Record 8 of Set 10 | zelenodolsk\n",
      "City is not found. Skipping...\n",
      "Processing Record 9 of Set 10 | krasnyy chikoy\n",
      "Processing Record 10 of Set 10 | biu\n",
      "City is not found. Skipping...\n",
      "Processing Record 11 of Set 10 | houma\n",
      "Processing Record 12 of Set 10 | miles city\n",
      "City is not found. Skipping...\n",
      "Processing Record 13 of Set 10 | juarez\n",
      "Processing Record 14 of Set 10 | batticaloa\n",
      "Processing Record 15 of Set 10 | jawhar\n",
      "Processing Record 16 of Set 10 | kavaratti\n",
      "Processing Record 17 of Set 10 | riviere-au-renard\n",
      "Processing Record 18 of Set 10 | zaraza\n",
      "Processing Record 19 of Set 10 | melfort\n",
      "Processing Record 20 of Set 10 | nara\n",
      "Processing Record 21 of Set 10 | la libertad\n",
      "Processing Record 22 of Set 10 | asau\n",
      "Processing Record 23 of Set 10 | mao\n",
      "Processing Record 24 of Set 10 | bartica\n",
      "Processing Record 25 of Set 10 | iqaluit\n",
      "Processing Record 26 of Set 10 | eydhafushi\n",
      "Processing Record 27 of Set 10 | ikare\n",
      "Processing Record 28 of Set 10 | barra dos coqueiros\n",
      "Processing Record 29 of Set 10 | blythe\n",
      "Processing Record 30 of Set 10 | doha\n",
      "Processing Record 31 of Set 10 | leshukonskoye\n",
      "Processing Record 32 of Set 10 | luanda\n",
      "Processing Record 33 of Set 10 | valparaiso\n",
      "Processing Record 34 of Set 10 | tuatapere\n",
      "Processing Record 35 of Set 10 | kamaishi\n",
      "Processing Record 36 of Set 10 | deputatskiy\n",
      "City is not found. Skipping...\n",
      "Processing Record 37 of Set 10 | morant bay\n",
      "Processing Record 38 of Set 10 | cabo san lucas\n",
      "Processing Record 39 of Set 10 | lethem\n",
      "Processing Record 40 of Set 10 | eregli\n",
      "Processing Record 41 of Set 10 | tual\n",
      "Processing Record 42 of Set 10 | rajapur\n",
      "Processing Record 43 of Set 10 | guerrero negro\n",
      "Processing Record 44 of Set 10 | nelson bay\n",
      "Processing Record 45 of Set 10 | wanaka\n",
      "Processing Record 46 of Set 10 | bejar\n",
      "Processing Record 47 of Set 10 | kalmunai\n",
      "Processing Record 48 of Set 10 | pafos\n",
      "Processing Record 49 of Set 10 | faya\n",
      "Processing Record 0 of Set 11 | edgewater\n",
      "Processing Record 1 of Set 11 | cayenne\n",
      "Processing Record 2 of Set 11 | verkhnevilyuysk\n",
      "Processing Record 3 of Set 11 | vardo\n",
      "Processing Record 4 of Set 11 | nishihara\n",
      "Processing Record 5 of Set 11 | phalombe\n",
      "Processing Record 6 of Set 11 | nuuk\n",
      "Processing Record 7 of Set 11 | tigil\n",
      "Processing Record 8 of Set 11 | miri\n",
      "Processing Record 9 of Set 11 | slave lake\n",
      "Processing Record 10 of Set 11 | buchanan\n",
      "Processing Record 11 of Set 11 | zonguldak\n",
      "Processing Record 12 of Set 11 | baykit\n",
      "Processing Record 13 of Set 11 | tessalit\n",
      "Processing Record 14 of Set 11 | pimentel\n",
      "City is not found. Skipping...\n",
      "Processing Record 15 of Set 11 | vila franca do campo\n",
      "Processing Record 16 of Set 11 | liku\n",
      "Processing Record 17 of Set 11 | xixiang\n",
      "Processing Record 18 of Set 11 | winnemucca\n",
      "Processing Record 19 of Set 11 | novaya zaimka\n",
      "Processing Record 20 of Set 11 | shaowu\n",
      "Processing Record 21 of Set 11 | bang saphan\n",
      "Processing Record 22 of Set 11 | high level\n",
      "Processing Record 23 of Set 11 | teguldet\n",
      "Processing Record 24 of Set 11 | alamosa\n",
      "Processing Record 25 of Set 11 | zhuhai\n",
      "Processing Record 26 of Set 11 | hailey\n",
      "Processing Record 27 of Set 11 | achalpur\n",
      "Processing Record 28 of Set 11 | saint-georges\n",
      "Processing Record 29 of Set 11 | jerico\n",
      "Processing Record 30 of Set 11 | tierranueva\n",
      "Processing Record 31 of Set 11 | konakovo\n",
      "Processing Record 32 of Set 11 | kamenka\n",
      "Processing Record 33 of Set 11 | nesna\n",
      "Processing Record 34 of Set 11 | viedma\n",
      "Processing Record 35 of Set 11 | san rafael\n",
      "Processing Record 36 of Set 11 | victoria\n",
      "Processing Record 37 of Set 11 | olafsvik\n",
      "Processing Record 38 of Set 11 | rominimbang\n",
      "Processing Record 39 of Set 11 | itirucu\n",
      "Processing Record 40 of Set 11 | seoul\n",
      "Processing Record 41 of Set 11 | tingo maria\n",
      "Processing Record 42 of Set 11 | manta\n",
      "Processing Record 43 of Set 11 | arman\n",
      "Processing Record 44 of Set 11 | soderhamn\n",
      "Processing Record 45 of Set 11 | wyndham\n",
      "Processing Record 46 of Set 11 | vuktyl\n",
      "Processing Record 47 of Set 11 | iquique\n",
      "City is not found. Skipping...\n",
      "Processing Record 48 of Set 11 | mangrol\n",
      "Processing Record 49 of Set 11 | chipata\n",
      "Processing Record 0 of Set 12 | zarubino\n",
      "Processing Record 1 of Set 12 | limulunga\n",
      "Processing Record 2 of Set 12 | gnjilane\n",
      "Processing Record 3 of Set 12 | nalchiti\n",
      "Processing Record 4 of Set 12 | muli\n",
      "Processing Record 5 of Set 12 | killam\n",
      "Processing Record 6 of Set 12 | mareeba\n",
      "Processing Record 7 of Set 12 | caravelas\n",
      "Processing Record 8 of Set 12 | hay river\n",
      "Processing Record 9 of Set 12 | choya\n",
      "Processing Record 10 of Set 12 | saint anthony\n",
      "Processing Record 11 of Set 12 | naze\n",
      "Processing Record 12 of Set 12 | saint-augustin\n"
     ]
    },
    {
     "name": "stdout",
     "output_type": "stream",
     "text": [
      "Processing Record 13 of Set 12 | rosario\n",
      "Processing Record 14 of Set 12 | hukuntsi\n",
      "Processing Record 15 of Set 12 | beira\n",
      "Processing Record 16 of Set 12 | altay\n",
      "Processing Record 17 of Set 12 | shumskiy\n",
      "Processing Record 18 of Set 12 | berlevag\n",
      "Processing Record 19 of Set 12 | san fernando\n",
      "Processing Record 20 of Set 12 | itarema\n",
      "Processing Record 21 of Set 12 | punta cardon\n",
      "Processing Record 22 of Set 12 | talara\n",
      "Processing Record 23 of Set 12 | buin\n",
      "Processing Record 24 of Set 12 | torrington\n",
      "Processing Record 25 of Set 12 | srivardhan\n",
      "Processing Record 26 of Set 12 | mayor pablo lagerenza\n",
      "Processing Record 27 of Set 12 | manzanares\n",
      "Processing Record 28 of Set 12 | byron bay\n",
      "Processing Record 29 of Set 12 | tombouctou\n",
      "Processing Record 30 of Set 12 | tres lagoas\n",
      "Processing Record 31 of Set 12 | comodoro rivadavia\n",
      "Processing Record 32 of Set 12 | mutsu\n",
      "Processing Record 33 of Set 12 | namibe\n",
      "Processing Record 34 of Set 12 | mogzon\n",
      "City is not found. Skipping...\n",
      "Processing Record 35 of Set 12 | pihuamo\n",
      "Processing Record 36 of Set 12 | gidole\n",
      "Processing Record 37 of Set 12 | krishnapur\n",
      "City is not found. Skipping...\n",
      "Processing Record 38 of Set 12 | rafaela\n",
      "Processing Record 39 of Set 12 | tommot\n",
      "-------------------------------------\n",
      "Data Retrieval is Complete\n"
     ]
    }
   ],
   "source": [
    "print(\"Beginning Data Retrieval\")\n",
    "print(\"-------------------------------------\")\n",
    "\n",
    "#create iterative loop\n",
    "for city in cities:\n",
    "    # Build partial query URL\n",
    "    query_url = base_url + \"appid=\" + weather_api_key + \"&q=\" + city + \"&units=imperial\"\n",
    "#     units = \"imperial\"\n",
    "#     query_url = f\"{base_url}appid={weather_api_key}&q={city}&units={units}&q=\"\n",
    "    response = requests.get(query_url)\n",
    "    data = response.json()\n",
    "    \n",
    "    #begin exception handling when appending data to all empty lists\n",
    "    try: \n",
    "        city_names.append(data['name'])\n",
    "        max_temps.append(data['main']['temp_max'])\n",
    "        humidity.append(data['main']['humidity'])\n",
    "        cloudiness.append(data['clouds']['all'])\n",
    "        wind_speed.append(data['wind']['speed'])\n",
    "        country.append(data['sys']['country'])\n",
    "        date.append(data['dt'])\n",
    "        latitude.append(data['coord']['lat'])\n",
    "        longitude.append(data['coord']['lon'])\n",
    "        \n",
    "        print(f'Processing Record {record_count} of Set {set_count} | {city}')\n",
    "        record_count = record_count + 1\n",
    "        \n",
    "        #for the set 1 until record reaches 50, append the data  \n",
    "        if (record_count > 50) & (set_count == 1):\n",
    "            record_count = 0\n",
    "            set_count = set_count + 1\n",
    "#             end_time = time.time()\n",
    "#             time.sleep(60-(end_time-start_time))\n",
    "#             start_time = time.time()\n",
    "            \n",
    "        #for all other sets after 1, until record reaches 49, append the data\n",
    "        elif (set_count > 1) & (record_count > 49):\n",
    "            record_count = 0\n",
    "            set_count = set_count + 1\n",
    "#             end_time = time.time()\n",
    "#             time.sleep(60-(end_time-start_time))\n",
    "#             start_time = time.time()\n",
    "        \n",
    "        #for \n",
    "    except: \n",
    "        print(\"City is not found. Skipping...\")\n",
    "            \n",
    "print(\"-------------------------------------\")  \n",
    "print(\"Data Retrieval is Complete\")\n"
   ]
  },
  {
   "cell_type": "code",
   "execution_count": null,
   "metadata": {},
   "outputs": [],
   "source": []
  },
  {
   "cell_type": "code",
   "execution_count": null,
   "metadata": {
    "scrolled": true
   },
   "outputs": [],
   "source": [
    "#starting output given as an example (ignore this)"
   ]
  },
  {
   "cell_type": "markdown",
   "metadata": {},
   "source": [
    "### Convert Raw Data to DataFrame\n",
    "* Export the city data into a .csv.\n",
    "* Display the DataFrame"
   ]
  },
  {
   "cell_type": "code",
   "execution_count": 8,
   "metadata": {},
   "outputs": [
    {
     "data": {
      "text/html": [
       "<div>\n",
       "<style scoped>\n",
       "    .dataframe tbody tr th:only-of-type {\n",
       "        vertical-align: middle;\n",
       "    }\n",
       "\n",
       "    .dataframe tbody tr th {\n",
       "        vertical-align: top;\n",
       "    }\n",
       "\n",
       "    .dataframe thead th {\n",
       "        text-align: right;\n",
       "    }\n",
       "</style>\n",
       "<table border=\"1\" class=\"dataframe\">\n",
       "  <thead>\n",
       "    <tr style=\"text-align: right;\">\n",
       "      <th></th>\n",
       "      <th>City</th>\n",
       "      <th>Max Temp</th>\n",
       "      <th>Humidity</th>\n",
       "      <th>Cloudiness</th>\n",
       "      <th>Wind Speed</th>\n",
       "      <th>Country</th>\n",
       "      <th>Date</th>\n",
       "      <th>Lat</th>\n",
       "      <th>Lng</th>\n",
       "    </tr>\n",
       "  </thead>\n",
       "  <tbody>\n",
       "    <tr>\n",
       "      <th>0</th>\n",
       "      <td>Karratha</td>\n",
       "      <td>101.84</td>\n",
       "      <td>28</td>\n",
       "      <td>47</td>\n",
       "      <td>22.95</td>\n",
       "      <td>AU</td>\n",
       "      <td>1638768846</td>\n",
       "      <td>-20.7377</td>\n",
       "      <td>116.8463</td>\n",
       "    </tr>\n",
       "    <tr>\n",
       "      <th>1</th>\n",
       "      <td>San Cristobal</td>\n",
       "      <td>71.78</td>\n",
       "      <td>80</td>\n",
       "      <td>100</td>\n",
       "      <td>2.04</td>\n",
       "      <td>VE</td>\n",
       "      <td>1638768746</td>\n",
       "      <td>7.7669</td>\n",
       "      <td>-72.2250</td>\n",
       "    </tr>\n",
       "    <tr>\n",
       "      <th>2</th>\n",
       "      <td>Province of Mantua</td>\n",
       "      <td>40.44</td>\n",
       "      <td>91</td>\n",
       "      <td>91</td>\n",
       "      <td>3.00</td>\n",
       "      <td>IT</td>\n",
       "      <td>1638768846</td>\n",
       "      <td>45.1667</td>\n",
       "      <td>10.7833</td>\n",
       "    </tr>\n",
       "    <tr>\n",
       "      <th>3</th>\n",
       "      <td>Maroantsetra</td>\n",
       "      <td>80.24</td>\n",
       "      <td>74</td>\n",
       "      <td>68</td>\n",
       "      <td>5.17</td>\n",
       "      <td>MG</td>\n",
       "      <td>1638768847</td>\n",
       "      <td>-15.4333</td>\n",
       "      <td>49.7333</td>\n",
       "    </tr>\n",
       "    <tr>\n",
       "      <th>4</th>\n",
       "      <td>Sinop Province</td>\n",
       "      <td>41.43</td>\n",
       "      <td>70</td>\n",
       "      <td>17</td>\n",
       "      <td>12.12</td>\n",
       "      <td>TR</td>\n",
       "      <td>1638768847</td>\n",
       "      <td>41.7711</td>\n",
       "      <td>34.8709</td>\n",
       "    </tr>\n",
       "    <tr>\n",
       "      <th>...</th>\n",
       "      <td>...</td>\n",
       "      <td>...</td>\n",
       "      <td>...</td>\n",
       "      <td>...</td>\n",
       "      <td>...</td>\n",
       "      <td>...</td>\n",
       "      <td>...</td>\n",
       "      <td>...</td>\n",
       "      <td>...</td>\n",
       "    </tr>\n",
       "    <tr>\n",
       "      <th>585</th>\n",
       "      <td>Pihuamo</td>\n",
       "      <td>66.78</td>\n",
       "      <td>80</td>\n",
       "      <td>100</td>\n",
       "      <td>2.98</td>\n",
       "      <td>MX</td>\n",
       "      <td>1638769101</td>\n",
       "      <td>19.2499</td>\n",
       "      <td>-103.3828</td>\n",
       "    </tr>\n",
       "    <tr>\n",
       "      <th>586</th>\n",
       "      <td>Gīdolē</td>\n",
       "      <td>64.65</td>\n",
       "      <td>41</td>\n",
       "      <td>9</td>\n",
       "      <td>4.81</td>\n",
       "      <td>ET</td>\n",
       "      <td>1638769101</td>\n",
       "      <td>5.6500</td>\n",
       "      <td>37.3667</td>\n",
       "    </tr>\n",
       "    <tr>\n",
       "      <th>587</th>\n",
       "      <td>Krishnapur</td>\n",
       "      <td>75.02</td>\n",
       "      <td>94</td>\n",
       "      <td>90</td>\n",
       "      <td>11.50</td>\n",
       "      <td>IN</td>\n",
       "      <td>1638769102</td>\n",
       "      <td>22.6703</td>\n",
       "      <td>88.2694</td>\n",
       "    </tr>\n",
       "    <tr>\n",
       "      <th>588</th>\n",
       "      <td>Rafaela</td>\n",
       "      <td>70.05</td>\n",
       "      <td>88</td>\n",
       "      <td>2</td>\n",
       "      <td>6.64</td>\n",
       "      <td>AR</td>\n",
       "      <td>1638769102</td>\n",
       "      <td>-31.2503</td>\n",
       "      <td>-61.4867</td>\n",
       "    </tr>\n",
       "    <tr>\n",
       "      <th>589</th>\n",
       "      <td>Tommot</td>\n",
       "      <td>3.69</td>\n",
       "      <td>90</td>\n",
       "      <td>100</td>\n",
       "      <td>5.82</td>\n",
       "      <td>RU</td>\n",
       "      <td>1638769103</td>\n",
       "      <td>58.9564</td>\n",
       "      <td>126.2925</td>\n",
       "    </tr>\n",
       "  </tbody>\n",
       "</table>\n",
       "<p>590 rows × 9 columns</p>\n",
       "</div>"
      ],
      "text/plain": [
       "                   City  Max Temp  Humidity  Cloudiness  Wind Speed Country  \\\n",
       "0              Karratha    101.84        28          47       22.95      AU   \n",
       "1         San Cristobal     71.78        80         100        2.04      VE   \n",
       "2    Province of Mantua     40.44        91          91        3.00      IT   \n",
       "3          Maroantsetra     80.24        74          68        5.17      MG   \n",
       "4        Sinop Province     41.43        70          17       12.12      TR   \n",
       "..                  ...       ...       ...         ...         ...     ...   \n",
       "585             Pihuamo     66.78        80         100        2.98      MX   \n",
       "586              Gīdolē     64.65        41           9        4.81      ET   \n",
       "587          Krishnapur     75.02        94          90       11.50      IN   \n",
       "588             Rafaela     70.05        88           2        6.64      AR   \n",
       "589              Tommot      3.69        90         100        5.82      RU   \n",
       "\n",
       "           Date      Lat       Lng  \n",
       "0    1638768846 -20.7377  116.8463  \n",
       "1    1638768746   7.7669  -72.2250  \n",
       "2    1638768846  45.1667   10.7833  \n",
       "3    1638768847 -15.4333   49.7333  \n",
       "4    1638768847  41.7711   34.8709  \n",
       "..          ...      ...       ...  \n",
       "585  1638769101  19.2499 -103.3828  \n",
       "586  1638769101   5.6500   37.3667  \n",
       "587  1638769102  22.6703   88.2694  \n",
       "588  1638769102 -31.2503  -61.4867  \n",
       "589  1638769103  58.9564  126.2925  \n",
       "\n",
       "[590 rows x 9 columns]"
      ]
     },
     "execution_count": 8,
     "metadata": {},
     "output_type": "execute_result"
    }
   ],
   "source": [
    "city_data = pd.DataFrame({\"City\": city_names, \"Max Temp\":max_temps, \"Humidity\":humidity, \"Cloudiness\":cloudiness, \"Wind Speed\":wind_speed, \"Country\":country,\"Date\":date, \"Lat\":latitude, \"Lng\":longitude})\n",
    "\n",
    "city_data.to_csv(\"output_data/weather_per_city.csv\")\n",
    "city_data"
   ]
  },
  {
   "cell_type": "code",
   "execution_count": 9,
   "metadata": {},
   "outputs": [
    {
     "data": {
      "text/plain": [
       "590"
      ]
     },
     "execution_count": 9,
     "metadata": {},
     "output_type": "execute_result"
    }
   ],
   "source": [
    "#checking\n",
    "n = len(pd.unique(city_data['City']))\n",
    "n"
   ]
  },
  {
   "cell_type": "code",
   "execution_count": null,
   "metadata": {},
   "outputs": [],
   "source": []
  },
  {
   "cell_type": "code",
   "execution_count": null,
   "metadata": {},
   "outputs": [],
   "source": [
    "#starting output given as an example (ignore this)"
   ]
  },
  {
   "cell_type": "code",
   "execution_count": null,
   "metadata": {},
   "outputs": [],
   "source": []
  },
  {
   "cell_type": "code",
   "execution_count": 10,
   "metadata": {},
   "outputs": [
    {
     "data": {
      "text/html": [
       "<div>\n",
       "<style scoped>\n",
       "    .dataframe tbody tr th:only-of-type {\n",
       "        vertical-align: middle;\n",
       "    }\n",
       "\n",
       "    .dataframe tbody tr th {\n",
       "        vertical-align: top;\n",
       "    }\n",
       "\n",
       "    .dataframe thead th {\n",
       "        text-align: right;\n",
       "    }\n",
       "</style>\n",
       "<table border=\"1\" class=\"dataframe\">\n",
       "  <thead>\n",
       "    <tr style=\"text-align: right;\">\n",
       "      <th></th>\n",
       "      <th>Max Temp</th>\n",
       "      <th>Humidity</th>\n",
       "      <th>Cloudiness</th>\n",
       "      <th>Wind Speed</th>\n",
       "      <th>Date</th>\n",
       "      <th>Lat</th>\n",
       "      <th>Lng</th>\n",
       "    </tr>\n",
       "  </thead>\n",
       "  <tbody>\n",
       "    <tr>\n",
       "      <th>count</th>\n",
       "      <td>590.000000</td>\n",
       "      <td>590.00000</td>\n",
       "      <td>590.000000</td>\n",
       "      <td>590.000000</td>\n",
       "      <td>5.900000e+02</td>\n",
       "      <td>590.000000</td>\n",
       "      <td>590.000000</td>\n",
       "    </tr>\n",
       "    <tr>\n",
       "      <th>mean</th>\n",
       "      <td>52.710068</td>\n",
       "      <td>74.00339</td>\n",
       "      <td>58.372881</td>\n",
       "      <td>8.219915</td>\n",
       "      <td>1.638769e+09</td>\n",
       "      <td>19.712675</td>\n",
       "      <td>14.239914</td>\n",
       "    </tr>\n",
       "    <tr>\n",
       "      <th>std</th>\n",
       "      <td>29.465698</td>\n",
       "      <td>19.94168</td>\n",
       "      <td>38.663626</td>\n",
       "      <td>6.195267</td>\n",
       "      <td>1.044400e+02</td>\n",
       "      <td>33.335177</td>\n",
       "      <td>90.899537</td>\n",
       "    </tr>\n",
       "    <tr>\n",
       "      <th>min</th>\n",
       "      <td>-45.290000</td>\n",
       "      <td>9.00000</td>\n",
       "      <td>0.000000</td>\n",
       "      <td>0.000000</td>\n",
       "      <td>1.638768e+09</td>\n",
       "      <td>-54.800000</td>\n",
       "      <td>-179.166700</td>\n",
       "    </tr>\n",
       "    <tr>\n",
       "      <th>25%</th>\n",
       "      <td>35.087500</td>\n",
       "      <td>65.00000</td>\n",
       "      <td>20.000000</td>\n",
       "      <td>3.452500</td>\n",
       "      <td>1.638769e+09</td>\n",
       "      <td>-9.144100</td>\n",
       "      <td>-68.100000</td>\n",
       "    </tr>\n",
       "    <tr>\n",
       "      <th>50%</th>\n",
       "      <td>61.180000</td>\n",
       "      <td>78.00000</td>\n",
       "      <td>73.500000</td>\n",
       "      <td>6.790000</td>\n",
       "      <td>1.638769e+09</td>\n",
       "      <td>23.100000</td>\n",
       "      <td>17.940600</td>\n",
       "    </tr>\n",
       "    <tr>\n",
       "      <th>75%</th>\n",
       "      <td>75.972500</td>\n",
       "      <td>89.00000</td>\n",
       "      <td>96.750000</td>\n",
       "      <td>11.500000</td>\n",
       "      <td>1.638769e+09</td>\n",
       "      <td>48.729675</td>\n",
       "      <td>94.810075</td>\n",
       "    </tr>\n",
       "    <tr>\n",
       "      <th>max</th>\n",
       "      <td>102.250000</td>\n",
       "      <td>100.00000</td>\n",
       "      <td>100.000000</td>\n",
       "      <td>38.010000</td>\n",
       "      <td>1.638769e+09</td>\n",
       "      <td>78.218600</td>\n",
       "      <td>179.316700</td>\n",
       "    </tr>\n",
       "  </tbody>\n",
       "</table>\n",
       "</div>"
      ],
      "text/plain": [
       "         Max Temp   Humidity  Cloudiness  Wind Speed          Date  \\\n",
       "count  590.000000  590.00000  590.000000  590.000000  5.900000e+02   \n",
       "mean    52.710068   74.00339   58.372881    8.219915  1.638769e+09   \n",
       "std     29.465698   19.94168   38.663626    6.195267  1.044400e+02   \n",
       "min    -45.290000    9.00000    0.000000    0.000000  1.638768e+09   \n",
       "25%     35.087500   65.00000   20.000000    3.452500  1.638769e+09   \n",
       "50%     61.180000   78.00000   73.500000    6.790000  1.638769e+09   \n",
       "75%     75.972500   89.00000   96.750000   11.500000  1.638769e+09   \n",
       "max    102.250000  100.00000  100.000000   38.010000  1.638769e+09   \n",
       "\n",
       "              Lat         Lng  \n",
       "count  590.000000  590.000000  \n",
       "mean    19.712675   14.239914  \n",
       "std     33.335177   90.899537  \n",
       "min    -54.800000 -179.166700  \n",
       "25%     -9.144100  -68.100000  \n",
       "50%     23.100000   17.940600  \n",
       "75%     48.729675   94.810075  \n",
       "max     78.218600  179.316700  "
      ]
     },
     "execution_count": 10,
     "metadata": {},
     "output_type": "execute_result"
    }
   ],
   "source": [
    "#get stats of weather per city data\n",
    "stats_city_data = city_data.describe()\n",
    "stats_city_data"
   ]
  },
  {
   "cell_type": "code",
   "execution_count": null,
   "metadata": {},
   "outputs": [],
   "source": []
  },
  {
   "cell_type": "code",
   "execution_count": null,
   "metadata": {},
   "outputs": [],
   "source": [
    "#starting output given as an example (ignore this)"
   ]
  },
  {
   "cell_type": "markdown",
   "metadata": {},
   "source": [
    "## Inspect the data and remove the cities where the humidity > 100%.\n",
    "----\n",
    "Skip this step if there are no cities that have humidity > 100%. "
   ]
  },
  {
   "cell_type": "code",
   "execution_count": 11,
   "metadata": {},
   "outputs": [
    {
     "data": {
      "text/plain": [
       "count    590.00000\n",
       "mean      74.00339\n",
       "std       19.94168\n",
       "min        9.00000\n",
       "25%       65.00000\n",
       "50%       78.00000\n",
       "75%       89.00000\n",
       "max      100.00000\n",
       "Name: Humidity, dtype: float64"
      ]
     },
     "execution_count": 11,
     "metadata": {},
     "output_type": "execute_result"
    }
   ],
   "source": [
    "#check if there are any cities with humidity over 100%- there are none\n",
    "max_humidity_cities = city_data[\"Humidity\"].describe()\n",
    "max_humidity_cities"
   ]
  },
  {
   "cell_type": "code",
   "execution_count": null,
   "metadata": {},
   "outputs": [],
   "source": []
  },
  {
   "cell_type": "code",
   "execution_count": null,
   "metadata": {},
   "outputs": [],
   "source": [
    "#starting output given as an example (ignore this)"
   ]
  },
  {
   "cell_type": "code",
   "execution_count": null,
   "metadata": {},
   "outputs": [],
   "source": [
    "#given as an example (ignore this)\n",
    "#  Get the indices of cities that have humidity over 100%."
   ]
  },
  {
   "cell_type": "code",
   "execution_count": null,
   "metadata": {},
   "outputs": [],
   "source": [
    "#starting output given as an example (ignore this)\n",
    "# Make a new DataFrame equal to the city data to drop all humidity outliers by index.\n",
    "# Passing \"inplace=False\" will make a copy of the city_data DataFrame, which we call \"clean_city_data\".\n"
   ]
  },
  {
   "cell_type": "code",
   "execution_count": null,
   "metadata": {},
   "outputs": [],
   "source": [
    "\n"
   ]
  },
  {
   "cell_type": "markdown",
   "metadata": {},
   "source": [
    "## Plotting the Data\n",
    "* Use proper labeling of the plots using plot titles (including date of analysis) and axes labels.\n",
    "* Save the plotted figures as .pngs."
   ]
  },
  {
   "cell_type": "markdown",
   "metadata": {},
   "source": [
    "## Latitude vs. Temperature Plot"
   ]
  },
  {
   "cell_type": "code",
   "execution_count": 12,
   "metadata": {},
   "outputs": [],
   "source": [
    "#Create x and y axis values: x is latitudes, y is temps\n",
    "latitudes = city_data[\"Lat\"]\n",
    "temps = city_data[\"Max Temp\"]"
   ]
  },
  {
   "cell_type": "code",
   "execution_count": 13,
   "metadata": {},
   "outputs": [
    {
     "data": {
      "image/png": "[encoded data removed]",
      "text/plain": [
       "<Figure size 432x288 with 1 Axes>"
      ]
     },
     "metadata": {
      "needs_background": "light"
     },
     "output_type": "display_data"
    }
   ],
   "source": [
    "#plot\n",
    "plt.scatter(x=latitudes, y=temps, edgecolor=\"black\", color=\"blue\")\n",
    "plt.title(\"Latitude vs. Max Temperature\")\n",
    "plt.xlabel(\"Latitude\")\n",
    "plt.ylabel(\"Max Temperature (F)\")\n",
    "plt.grid(alpha=0.6)\n",
    "plt.savefig(\"output_data/Figures/Lat_vs_Temp.png\")\n",
    "plt.show()"
   ]
  },
  {
   "cell_type": "markdown",
   "metadata": {},
   "source": [
    "# Lat vs temps Plot Analysis: \n",
    "This plot is analyzing if there is a trend in latitude and max temps to see if location of a city affects max temps"
   ]
  },
  {
   "cell_type": "code",
   "execution_count": null,
   "metadata": {
    "scrolled": true
   },
   "outputs": [],
   "source": [
    "# starting output given as an example (ignore this)"
   ]
  },
  {
   "cell_type": "markdown",
   "metadata": {},
   "source": [
    "## Latitude vs. Humidity Plot"
   ]
  },
  {
   "cell_type": "code",
   "execution_count": 14,
   "metadata": {},
   "outputs": [],
   "source": [
    "#Create x and y axis values: x is latitudes, y is humidity%\n",
    "latitudes = city_data[\"Lat\"]\n",
    "humidity_percentage = city_data[\"Humidity\"]"
   ]
  },
  {
   "cell_type": "code",
   "execution_count": 15,
   "metadata": {},
   "outputs": [
    {
     "data": {
      "image/png": "[encoded data removed]",
      "text/plain": [
       "<Figure size 432x288 with 1 Axes>"
      ]
     },
     "metadata": {
      "needs_background": "light"
     },
     "output_type": "display_data"
    }
   ],
   "source": [
    "plt.scatter(x=latitudes, y=humidity_percentage, edgecolor=\"black\", color=\"pink\")\n",
    "plt.title(\"Latitude vs. Humidity %\")\n",
    "plt.xlabel(\"Latitude\")\n",
    "plt.ylabel(\"Humidity %\")\n",
    "plt.grid(alpha=0.6)\n",
    "plt.savefig(\"output_data/Figures/Lat_vs_Humidity.png\")\n",
    "plt.show()"
   ]
  },
  {
   "cell_type": "markdown",
   "metadata": {},
   "source": [
    "# Lat vs humidity Plot Analysis: \n",
    "This plot is analyzing if there is a trend in latitude and humidity to see if location of a city affects humidity"
   ]
  },
  {
   "cell_type": "code",
   "execution_count": null,
   "metadata": {},
   "outputs": [],
   "source": []
  },
  {
   "cell_type": "code",
   "execution_count": null,
   "metadata": {},
   "outputs": [],
   "source": [
    "# starting output given as an example (ignore this)"
   ]
  },
  {
   "cell_type": "markdown",
   "metadata": {},
   "source": [
    "## Latitude vs. Cloudiness Plot"
   ]
  },
  {
   "cell_type": "code",
   "execution_count": 16,
   "metadata": {},
   "outputs": [
    {
     "data": {
      "image/png": "[encoded data removed]",
      "text/plain": [
       "<Figure size 432x288 with 1 Axes>"
      ]
     },
     "metadata": {
      "needs_background": "light"
     },
     "output_type": "display_data"
    }
   ],
   "source": [
    "#Create x and y axis values: x is latitudes, y is cloudiness\n",
    "latitudes = city_data[\"Lat\"]\n",
    "cloudiness = city_data[\"Cloudiness\"]\n",
    "plt.scatter(x=latitudes, y=cloudiness, edgecolor=\"black\", color=\"lightgreen\")\n",
    "plt.title(\"Latitude vs. Cloudiness\")\n",
    "plt.xlabel(\"Latitude\")\n",
    "plt.ylabel(\"Cloudiness\")\n",
    "plt.grid(alpha=0.6)\n",
    "plt.savefig(\"output_data/Figures/Lat_vs_Cloudiness.png\")\n",
    "plt.show()"
   ]
  },
  {
   "cell_type": "markdown",
   "metadata": {},
   "source": [
    "# Lat vs Cloudiness Plot Analysis: \n",
    "This plot is analyzing if there is a trend in latitude and cloudiness to see if location of a city affects cloudiness"
   ]
  },
  {
   "cell_type": "code",
   "execution_count": null,
   "metadata": {},
   "outputs": [],
   "source": [
    "# starting output given as an example (ignore this)"
   ]
  },
  {
   "cell_type": "markdown",
   "metadata": {},
   "source": [
    "## Latitude vs. Wind Speed Plot"
   ]
  },
  {
   "cell_type": "code",
   "execution_count": 17,
   "metadata": {},
   "outputs": [
    {
     "data": {
      "image/png": "[encoded data removed]",
      "text/plain": [
       "<Figure size 432x288 with 1 Axes>"
      ]
     },
     "metadata": {
      "needs_background": "light"
     },
     "output_type": "display_data"
    }
   ],
   "source": [
    "#Create x and y axis values: x is latitudes, y is wind speed\n",
    "latitudes = city_data[\"Lat\"]\n",
    "wind = city_data[\"Wind Speed\"]\n",
    "plt.scatter(x=latitudes, y=wind, edgecolor=\"black\", color=\"blue\")\n",
    "plt.title(\"Latitude vs. Wind Speed\")\n",
    "plt.xlabel(\"Latitude\")\n",
    "plt.ylabel(\"Wind Speed\")\n",
    "plt.grid(alpha=0.6)\n",
    "plt.savefig(\"output_data/Figures/Lat_vs_WindSpeed.png\")\n",
    "plt.show()"
   ]
  },
  {
   "cell_type": "markdown",
   "metadata": {},
   "source": [
    "# Lat vs wind speed Plot Analysis: \n",
    "This plot is analyzing if there is a trend in latitude and wind speed to see if location of a city affects wind speed"
   ]
  },
  {
   "cell_type": "code",
   "execution_count": null,
   "metadata": {},
   "outputs": [],
   "source": [
    "# starting output given as an example (ignore this)"
   ]
  },
  {
   "cell_type": "markdown",
   "metadata": {},
   "source": [
    "## Linear Regression"
   ]
  },
  {
   "cell_type": "code",
   "execution_count": 19,
   "metadata": {},
   "outputs": [],
   "source": [
    "northern = city_data['Lat']>0\n",
    "southern = city_data['Lat']<0\n",
    "northern_hemi = city_data.loc[northern]\n",
    "southern_hemi = city_data.loc[southern]"
   ]
  },
  {
   "cell_type": "code",
   "execution_count": 26,
   "metadata": {},
   "outputs": [],
   "source": [
    "#create a function that does linear regression that you can use for multiple plots\n",
    "def linreg_equ(x_values,y_values):\n",
    "    #print(f\"The r-squared is : {round(st.pearsonr(x, y)[0],2)}\")\n",
    "    (slope, intercept, rvalue, pvalue, stderr) = linregress(x_values, y_values)\n",
    "    regress_values = x_values * slope + intercept\n",
    "    line_equ = \"y = \" + str(round(slope,2)) + \"x + \" + str(round(intercept,2))\n",
    "    plt.scatter(x_values, y_values)\n",
    "    plt.plot(x_values,regress_values,\"r-\")\n",
    "    return line_equ"
   ]
  },
  {
   "cell_type": "markdown",
   "metadata": {},
   "source": [
    "####  Northern Hemisphere - Max Temp vs. Latitude Linear Regression"
   ]
  },
  {
   "cell_type": "code",
   "execution_count": 34,
   "metadata": {},
   "outputs": [
    {
     "data": {
      "image/png": "[encoded data removed]",
      "text/plain": [
       "<Figure size 432x288 with 1 Axes>"
      ]
     },
     "metadata": {
      "needs_background": "light"
     },
     "output_type": "display_data"
    }
   ],
   "source": [
    "latitude_x = northern_hemi[\"Lat\"]\n",
    "temp_y = northern_hemi[\"Max Temp\"]\n",
    "\n",
    "#linear regression equation\n",
    "lin_eq = linreg_equ(latitude_x, temp_y)\n",
    "\n",
    "#show equation on graph\n",
    "plt.annotate(lin_eq,(0,0),fontsize=10,color=\"red\")\n",
    "\n",
    "plt.title(\"Max Temp vs. Latitude for Northern Hemisphere\")\n",
    "plt.xlabel(\"Latitude\")\n",
    "plt.ylabel(\"Max Temps (F)\")\n",
    "\n",
    "plt.savefig(\"output_data/Figures/NorthernLat_MaxTemp.png\")\n"
   ]
  },
  {
   "cell_type": "markdown",
   "metadata": {},
   "source": [
    "# The plot above shows that as latitude increases, the max temp decreases. "
   ]
  },
  {
   "cell_type": "code",
   "execution_count": null,
   "metadata": {},
   "outputs": [],
   "source": []
  },
  {
   "cell_type": "markdown",
   "metadata": {},
   "source": [
    "####  Southern Hemisphere - Max Temp vs. Latitude Linear Regression"
   ]
  },
  {
   "cell_type": "code",
   "execution_count": 33,
   "metadata": {},
   "outputs": [
    {
     "data": {
      "image/png": "[encoded data removed]",
      "text/plain": [
       "<Figure size 432x288 with 1 Axes>"
      ]
     },
     "metadata": {
      "needs_background": "light"
     },
     "output_type": "display_data"
    }
   ],
   "source": [
    "latitude_x = southern_hemi[\"Lat\"]\n",
    "temp_y = southern_hemi[\"Max Temp\"]\n",
    "\n",
    "#linear regression equation\n",
    "lin_eq = linreg_equ(latitude_x, temp_y)\n",
    "\n",
    "#show equation on graph\n",
    "plt.annotate(lin_eq,(-50,100),fontsize=10,color=\"red\")\n",
    "\n",
    "plt.title(\"Max Temp vs. Latitude for the Southern Hemisphere\")\n",
    "plt.xlabel(\"Latitude\")\n",
    "plt.ylabel(\"Max Temps (F)\")\n",
    "\n",
    "plt.savefig(\"output_data/Figures/SouthernLat_MaxTemp.png\")\n"
   ]
  },
  {
   "cell_type": "markdown",
   "metadata": {},
   "source": [
    "# The plot above shows that as latitude increases, the max temp increases. "
   ]
  },
  {
   "cell_type": "code",
   "execution_count": null,
   "metadata": {},
   "outputs": [],
   "source": []
  },
  {
   "cell_type": "markdown",
   "metadata": {},
   "source": [
    "####  Northern Hemisphere - Humidity (%) vs. Latitude Linear Regression"
   ]
  },
  {
   "cell_type": "code",
   "execution_count": 40,
   "metadata": {
    "scrolled": true
   },
   "outputs": [
    {
     "data": {
      "image/png": "[encoded data removed]",
      "text/plain": [
       "<Figure size 432x288 with 1 Axes>"
      ]
     },
     "metadata": {
      "needs_background": "light"
     },
     "output_type": "display_data"
    }
   ],
   "source": [
    "latitude_x = northern_hemi[\"Lat\"]\n",
    "humidity_y = northern_hemi[\"Humidity\"]\n",
    "\n",
    "#linear regression equation\n",
    "lin_eq = linreg_equ(latitude_x, humidity_y)\n",
    "\n",
    "#show equation on graph\n",
    "plt.annotate(lin_eq,(55, 20),fontsize=10,color=\"red\")\n",
    "\n",
    "plt.title(\"Humidity vs. Latitude for the Northern Hemisphere\")\n",
    "plt.xlabel(\"Latitude\")\n",
    "plt.ylabel(\"Humidity %\")\n",
    "\n",
    "plt.savefig(\"output_data/Figures/NorthernHumidity.png\")\n"
   ]
  },
  {
   "cell_type": "markdown",
   "metadata": {},
   "source": [
    "# The plot above shows that as latitude increases, the humidity increases. "
   ]
  },
  {
   "cell_type": "code",
   "execution_count": null,
   "metadata": {},
   "outputs": [],
   "source": []
  },
  {
   "cell_type": "markdown",
   "metadata": {},
   "source": [
    "####  Southern Hemisphere - Humidity (%) vs. Latitude Linear Regression"
   ]
  },
  {
   "cell_type": "code",
   "execution_count": 42,
   "metadata": {},
   "outputs": [
    {
     "data": {
      "image/png": "[encoded data removed]",
      "text/plain": [
       "<Figure size 432x288 with 1 Axes>"
      ]
     },
     "metadata": {
      "needs_background": "light"
     },
     "output_type": "display_data"
    }
   ],
   "source": [
    "latitude_x = southern_hemi[\"Lat\"]\n",
    "humidity_y = southern_hemi[\"Humidity\"]\n",
    "\n",
    "#linear regression equation\n",
    "lin_eq = linreg_equ(latitude_x, humidity_y)\n",
    "\n",
    "#show equation on graph\n",
    "plt.annotate(lin_eq,(-50,95),fontsize=10,color=\"red\")\n",
    "\n",
    "plt.title(\"Humidity vs. Latitude for the Southern Hemisphere\")\n",
    "plt.xlabel(\"Latitude\")\n",
    "plt.ylabel(\"Humidity %\")\n",
    "\n",
    "plt.savefig(\"output_data/Figures/SouthernHumidity.png\")\n"
   ]
  },
  {
   "cell_type": "markdown",
   "metadata": {},
   "source": [
    "# The plot above shows that as latitude increases, the humidity slightly increases. "
   ]
  },
  {
   "cell_type": "code",
   "execution_count": null,
   "metadata": {},
   "outputs": [],
   "source": []
  },
  {
   "cell_type": "markdown",
   "metadata": {},
   "source": [
    "####  Northern Hemisphere - Cloudiness (%) vs. Latitude Linear Regression"
   ]
  },
  {
   "cell_type": "code",
   "execution_count": 49,
   "metadata": {},
   "outputs": [
    {
     "data": {
      "image/png": "[encoded data removed]",
      "text/plain": [
       "<Figure size 432x288 with 1 Axes>"
      ]
     },
     "metadata": {
      "needs_background": "light"
     },
     "output_type": "display_data"
    }
   ],
   "source": [
    "latitude_x = northern_hemi[\"Lat\"]\n",
    "cloud_y = northern_hemi[\"Cloudiness\"]\n",
    "\n",
    "#linear regression equation\n",
    "lin_eq = linreg_equ(latitude_x, cloud_y)\n",
    "\n",
    "#show equation on graph\n",
    "plt.annotate(lin_eq,(70,0),fontsize=10,color=\"red\")\n",
    "\n",
    "plt.title(\"Cloudiness vs. Latitude for the Northern Hemisphere\")\n",
    "plt.xlabel(\"Latitude\")\n",
    "plt.ylabel(\"Cloudiness\")\n",
    "\n",
    "plt.savefig(\"output_data/Figures/NorthernCloudiness.png\")\n"
   ]
  },
  {
   "cell_type": "markdown",
   "metadata": {},
   "source": [
    "# The plot above shows that as latitude increases, the cloudiness increases. "
   ]
  },
  {
   "cell_type": "code",
   "execution_count": null,
   "metadata": {},
   "outputs": [],
   "source": []
  },
  {
   "cell_type": "markdown",
   "metadata": {},
   "source": [
    "####  Southern Hemisphere - Cloudiness (%) vs. Latitude Linear Regression"
   ]
  },
  {
   "cell_type": "code",
   "execution_count": 48,
   "metadata": {},
   "outputs": [
    {
     "data": {
      "image/png": "[encoded data removed]",
      "text/plain": [
       "<Figure size 432x288 with 1 Axes>"
      ]
     },
     "metadata": {
      "needs_background": "light"
     },
     "output_type": "display_data"
    }
   ],
   "source": [
    "latitude_x = southern_hemi[\"Lat\"]\n",
    "cloud_y = southern_hemi[\"Cloudiness\"]\n",
    "\n",
    "#linear regression equation\n",
    "lin_eq = linreg_equ(latitude_x, cloud_y)\n",
    "\n",
    "#show equation on graph\n",
    "plt.annotate(lin_eq,(70,0),fontsize=10,color=\"red\")\n",
    "\n",
    "plt.title(\"Cloudiness vs. Latitude for the Southern Hemisphere\")\n",
    "plt.xlabel(\"Latitude\")\n",
    "plt.ylabel(\"Cloudiness\")\n",
    "\n",
    "plt.savefig(\"output_data/Figures/SOuthernCloudiness.png\")\n"
   ]
  },
  {
   "cell_type": "markdown",
   "metadata": {},
   "source": [
    "### The plot above shows that as latitude increases, the cloudiness increases. \n"
   ]
  },
  {
   "cell_type": "markdown",
   "metadata": {},
   "source": [
    "###  Northern Hemisphere - Wind Speed(mph) vs. Latitude Linear Regression"
   ]
  },
  {
   "cell_type": "code",
   "execution_count": 50,
   "metadata": {},
   "outputs": [
    {
     "data": {
      "image/png": "[encoded data removed]",
      "text/plain": [
       "<Figure size 432x288 with 1 Axes>"
      ]
     },
     "metadata": {
      "needs_background": "light"
     },
     "output_type": "display_data"
    }
   ],
   "source": [
    "latitude_x = northern_hemi[\"Lat\"]\n",
    "wind_y = northern_hemi[\"Wind Speed\"]\n",
    "\n",
    "#linear regression equation\n",
    "lin_eq = linreg_equ(latitude_x, wind_y)\n",
    "\n",
    "#show equation on graph\n",
    "plt.annotate(lin_eq,(70,0),fontsize=10,color=\"red\")\n",
    "\n",
    "plt.title(\"Wind Speed vs. Latitude for the Northern Hemisphere\")\n",
    "plt.xlabel(\"Latitude\")\n",
    "plt.ylabel(\"Wind Speed\")\n",
    "\n",
    "plt.savefig(\"output_data/Figures/NorthernWindSpeed.png\")\n"
   ]
  },
  {
   "cell_type": "markdown",
   "metadata": {},
   "source": [
    "### The plot above shows that as latitude increases, the wind speed increases. \n"
   ]
  },
  {
   "cell_type": "code",
   "execution_count": null,
   "metadata": {},
   "outputs": [],
   "source": []
  },
  {
   "cell_type": "markdown",
   "metadata": {},
   "source": [
    "####  Southern Hemisphere - Wind Speed (mph) vs. Latitude Linear Regression"
   ]
  },
  {
   "cell_type": "code",
   "execution_count": 51,
   "metadata": {
    "scrolled": true
   },
   "outputs": [
    {
     "data": {
      "image/png": "[encoded data removed]",
      "text/plain": [
       "<Figure size 432x288 with 1 Axes>"
      ]
     },
     "metadata": {
      "needs_background": "light"
     },
     "output_type": "display_data"
    }
   ],
   "source": [
    "latitude_x = southern_hemi[\"Lat\"]\n",
    "wind_y = southern_hemi[\"Wind Speed\"]\n",
    "\n",
    "#linear regression equation\n",
    "lin_eq = linreg_equ(latitude_x, wind_y)\n",
    "\n",
    "#show equation on graph\n",
    "plt.annotate(lin_eq,(70,0),fontsize=10,color=\"red\")\n",
    "\n",
    "plt.title(\"Wind Speed vs. Latitude for the Southern Hemisphere\")\n",
    "plt.xlabel(\"Latitude\")\n",
    "plt.ylabel(\"Wind Speed\")\n",
    "\n",
    "plt.savefig(\"output_data/Figures/SouthernWindSpeed.png\")\n"
   ]
  },
  {
   "cell_type": "markdown",
   "metadata": {},
   "source": [
    "### The plot above shows that as latitude increases, the wind speed decreases. \n"
   ]
  },
  {
   "cell_type": "code",
   "execution_count": null,
   "metadata": {},
   "outputs": [],
   "source": []
  }
 ],
 "metadata": {
  "anaconda-cloud": {},
  "kernel_info": {
   "name": "python3"
  },
  "kernelspec": {
   "display_name": "Python 3",
   "language": "python",
   "name": "python3"
  },
  "language_info": {
   "codemirror_mode": {
    "name": "ipython",
    "version": 3
   },
   "file_extension": ".py",
   "mimetype": "text/x-python",
   "name": "python",
   "nbconvert_exporter": "python",
   "pygments_lexer": "ipython3",
   "version": "3.8.8"
  },
  "latex_envs": {
   "LaTeX_envs_menu_present": true,
   "autoclose": false,
   "autocomplete": true,
   "bibliofile": "biblio.bib",
   "cite_by": "apalike",
   "current_citInitial": 1,
   "eqLabelWithNumbers": true,
   "eqNumInitial": 1,
   "hotkeys": {
    "equation": "Ctrl-E",
    "itemize": "Ctrl-I"
   },
   "labels_anchors": false,
   "latex_user_defs": false,
   "report_style_numbering": false,
   "user_envs_cfg": false
  },
  "nteract": {
   "version": "0.12.3"
  }
 },
 "nbformat": 4,
 "nbformat_minor": 2
}
